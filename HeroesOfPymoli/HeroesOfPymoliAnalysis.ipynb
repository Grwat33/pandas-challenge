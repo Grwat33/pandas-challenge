{
 "cells": [
  {
   "cell_type": "markdown",
   "metadata": {},
   "source": [
    "### Note\n",
    "* Instructions have been included for each segment. You do not have to follow them exactly, but they are included to help you think through the steps."
   ]
  },
  {
   "cell_type": "code",
   "execution_count": 489,
   "metadata": {},
   "outputs": [],
   "source": [
    "# Dependencies and Setup\n",
    "import pandas as pd\n",
    "\n",
    "# File to Load\n",
    "purchase_data = \"Resources/purchase_data.csv\"\n",
    "\n",
    "# Read Purchasing File and store into Pandas data frame\n",
    "purchase_data_df = pd.read_csv(purchase_data)"
   ]
  },
  {
   "cell_type": "markdown",
   "metadata": {},
   "source": [
    "## Player Count"
   ]
  },
  {
   "cell_type": "markdown",
   "metadata": {},
   "source": [
    "* Display the total number of players\n"
   ]
  },
  {
   "cell_type": "code",
   "execution_count": 490,
   "metadata": {},
   "outputs": [
    {
     "data": {
      "text/html": [
       "<div>\n",
       "<style scoped>\n",
       "    .dataframe tbody tr th:only-of-type {\n",
       "        vertical-align: middle;\n",
       "    }\n",
       "\n",
       "    .dataframe tbody tr th {\n",
       "        vertical-align: top;\n",
       "    }\n",
       "\n",
       "    .dataframe thead th {\n",
       "        text-align: right;\n",
       "    }\n",
       "</style>\n",
       "<table border=\"1\" class=\"dataframe\">\n",
       "  <thead>\n",
       "    <tr style=\"text-align: right;\">\n",
       "      <th></th>\n",
       "      <th>Total Players</th>\n",
       "    </tr>\n",
       "  </thead>\n",
       "  <tbody>\n",
       "    <tr>\n",
       "      <th>0</th>\n",
       "      <td>576</td>\n",
       "    </tr>\n",
       "  </tbody>\n",
       "</table>\n",
       "</div>"
      ],
      "text/plain": [
       "   Total Players\n",
       "0            576"
      ]
     },
     "execution_count": 490,
     "metadata": {},
     "output_type": "execute_result"
    }
   ],
   "source": [
    "#Display the total number of players\n",
    "players_df = purchase_data_df.drop_duplicates(subset=['SN'], keep='first')\n",
    "allplayers = len(players_df)\n",
    "player_count_df = pd.DataFrame ({\n",
    "    \"Total Players\" : [allplayers]\n",
    "})\n",
    "player_count_df.head()"
   ]
  },
  {
   "cell_type": "markdown",
   "metadata": {},
   "source": [
    "## Purchasing Analysis (Total)"
   ]
  },
  {
   "cell_type": "markdown",
   "metadata": {},
   "source": [
    "* Run basic calculations to obtain number of unique items, average price, etc.\n",
    "\n",
    "\n",
    "* Create a summary data frame to hold the results\n",
    "\n",
    "\n",
    "* Optional: give the displayed data cleaner formatting\n",
    "\n",
    "\n",
    "* Display the summary data frame\n"
   ]
  },
  {
   "cell_type": "code",
   "execution_count": 491,
   "metadata": {},
   "outputs": [
    {
     "data": {
      "text/html": [
       "<div>\n",
       "<style scoped>\n",
       "    .dataframe tbody tr th:only-of-type {\n",
       "        vertical-align: middle;\n",
       "    }\n",
       "\n",
       "    .dataframe tbody tr th {\n",
       "        vertical-align: top;\n",
       "    }\n",
       "\n",
       "    .dataframe thead th {\n",
       "        text-align: right;\n",
       "    }\n",
       "</style>\n",
       "<table border=\"1\" class=\"dataframe\">\n",
       "  <thead>\n",
       "    <tr style=\"text-align: right;\">\n",
       "      <th></th>\n",
       "      <th>Number of Unique Items</th>\n",
       "      <th>Average Price</th>\n",
       "      <th>Number of Purchases</th>\n",
       "      <th>Total Revenue</th>\n",
       "    </tr>\n",
       "  </thead>\n",
       "  <tbody>\n",
       "    <tr>\n",
       "      <th>0</th>\n",
       "      <td>179</td>\n",
       "      <td>$3.05</td>\n",
       "      <td>780</td>\n",
       "      <td>$2,379.77</td>\n",
       "    </tr>\n",
       "  </tbody>\n",
       "</table>\n",
       "</div>"
      ],
      "text/plain": [
       "   Number of Unique Items Average Price  Number of Purchases Total Revenue\n",
       "0                     179         $3.05                  780     $2,379.77"
      ]
     },
     "execution_count": 491,
     "metadata": {},
     "output_type": "execute_result"
    }
   ],
   "source": [
    "#Run basic calculations to obtain number of unique items, average price, etc.\n",
    "unique_items = purchase_data_df[\"Item ID\"].unique()\n",
    "average_price = purchase_data_df[\"Price\"].sum() / purchase_data_df[\"Price\"].count()\n",
    "number_of_purchases = purchase_data_df[\"Price\"].count()\n",
    "total_revenue = purchase_data_df[\"Price\"].sum()\n",
    "\n",
    "#Create a summary data frame to hold the results\n",
    "purchasing_analysis_df = pd.DataFrame ({ \n",
    "    \"Number of Unique Items\" : [len(unique_items)],\n",
    "    \"Average Price\" : [formatted_price],\n",
    "    \"Number of Purchases\" : [number_of_purchases],\n",
    "    \"Total Revenue\" : [formatted_revenue]\n",
    "})\n",
    "\n",
    "#Optional: give the displayed data cleaner formatting\n",
    "formatted_price = \"${:,.2f}\".format(average_price)\n",
    "formatted_revenue = \"${:,.2f}\".format(total_revenue)\n",
    "\n",
    "#Display the summary data frame\n",
    "purchasing_analysis_df.head()"
   ]
  },
  {
   "cell_type": "markdown",
   "metadata": {},
   "source": [
    "## Gender Demographics"
   ]
  },
  {
   "cell_type": "code",
   "execution_count": 492,
   "metadata": {},
   "outputs": [
    {
     "data": {
      "text/html": [
       "<div>\n",
       "<style scoped>\n",
       "    .dataframe tbody tr th:only-of-type {\n",
       "        vertical-align: middle;\n",
       "    }\n",
       "\n",
       "    .dataframe tbody tr th {\n",
       "        vertical-align: top;\n",
       "    }\n",
       "\n",
       "    .dataframe thead th {\n",
       "        text-align: right;\n",
       "    }\n",
       "</style>\n",
       "<table border=\"1\" class=\"dataframe\">\n",
       "  <thead>\n",
       "    <tr style=\"text-align: right;\">\n",
       "      <th></th>\n",
       "      <th>Total Count</th>\n",
       "      <th>Percentage of Players</th>\n",
       "    </tr>\n",
       "  </thead>\n",
       "  <tbody>\n",
       "    <tr>\n",
       "      <th>Male</th>\n",
       "      <td>484</td>\n",
       "      <td>84.03%</td>\n",
       "    </tr>\n",
       "    <tr>\n",
       "      <th>Female</th>\n",
       "      <td>81</td>\n",
       "      <td>14.06%</td>\n",
       "    </tr>\n",
       "    <tr>\n",
       "      <th>Other / Non-Disclosed</th>\n",
       "      <td>11</td>\n",
       "      <td>1.91%</td>\n",
       "    </tr>\n",
       "  </tbody>\n",
       "</table>\n",
       "</div>"
      ],
      "text/plain": [
       "                       Total Count Percentage of Players\n",
       "Male                           484                84.03%\n",
       "Female                          81                14.06%\n",
       "Other / Non-Disclosed           11                 1.91%"
      ]
     },
     "execution_count": 492,
     "metadata": {},
     "output_type": "execute_result"
    }
   ],
   "source": [
    "# Percentage and Count of Male Players\n",
    "males = (players_df.Gender == 'Male').sum()\n",
    "malespercentage = males / allplayers\n",
    "formatted_malespercentage = '{:.2%}'.format(malespercentage)\n",
    "\n",
    "# Percentage and Count of Female Players\n",
    "females = (players_df.Gender == 'Female').sum()\n",
    "femalespercentage = females / allplayers\n",
    "formatted_femalespercentage = '{:.2%}'.format(femalespercentage)\n",
    "\n",
    "#Percentage and Count of Other / Non-Disclosed\n",
    "other = (players_df.Gender == 'Other / Non-Disclosed').sum()\n",
    "otherpercentage = other / allplayers\n",
    "formatted_otherpercentage = '{:.2%}'.format(otherpercentage)\n",
    "\n",
    "#Create a summary data frame to hold the results\n",
    "demographics = [(males, formatted_malespercentage),\n",
    "                (females, formatted_femalespercentage),\n",
    "                (other, formatted_otherpercentage)]\n",
    "gender_df = pd.DataFrame(demographics, \n",
    "                         columns = ['Total Count' , 'Percentage of Players'], \n",
    "                         index=['Male', 'Female', 'Other / Non-Disclosed'])\n",
    "gender_df\n"
   ]
  },
  {
   "cell_type": "markdown",
   "metadata": {},
   "source": [
    "* Percentage and Count of Male Players\n",
    "\n",
    "\n",
    "* Percentage and Count of Female Players\n",
    "\n",
    "\n",
    "* Percentage and Count of Other / Non-Disclosed\n",
    "\n",
    "\n"
   ]
  },
  {
   "cell_type": "markdown",
   "metadata": {},
   "source": [
    "\n",
    "## Purchasing Analysis (Gender)"
   ]
  },
  {
   "cell_type": "markdown",
   "metadata": {},
   "source": [
    "* Run basic calculations to obtain purchase count, avg. purchase price, avg. purchase total per person etc. by gender\n",
    "\n",
    "\n",
    "\n",
    "\n",
    "* Create a summary data frame to hold the results\n",
    "\n",
    "\n",
    "* Optional: give the displayed data cleaner formatting\n",
    "\n",
    "\n",
    "* Display the summary data frame"
   ]
  },
  {
   "cell_type": "code",
   "execution_count": 493,
   "metadata": {},
   "outputs": [
    {
     "data": {
      "text/html": [
       "<div>\n",
       "<style scoped>\n",
       "    .dataframe tbody tr th:only-of-type {\n",
       "        vertical-align: middle;\n",
       "    }\n",
       "\n",
       "    .dataframe tbody tr th {\n",
       "        vertical-align: top;\n",
       "    }\n",
       "\n",
       "    .dataframe thead th {\n",
       "        text-align: right;\n",
       "    }\n",
       "</style>\n",
       "<table border=\"1\" class=\"dataframe\">\n",
       "  <thead>\n",
       "    <tr style=\"text-align: right;\">\n",
       "      <th></th>\n",
       "      <th>Purchase Count</th>\n",
       "      <th>Average Purchase Price</th>\n",
       "      <th>Total Purchase Value</th>\n",
       "      <th>Avg Total Purchase per Person</th>\n",
       "    </tr>\n",
       "    <tr>\n",
       "      <th>Gender</th>\n",
       "      <th></th>\n",
       "      <th></th>\n",
       "      <th></th>\n",
       "      <th></th>\n",
       "    </tr>\n",
       "  </thead>\n",
       "  <tbody>\n",
       "    <tr>\n",
       "      <th>Female</th>\n",
       "      <td>113</td>\n",
       "      <td>$3.20</td>\n",
       "      <td>$361.94</td>\n",
       "      <td>$4.47</td>\n",
       "    </tr>\n",
       "    <tr>\n",
       "      <th>Male</th>\n",
       "      <td>652</td>\n",
       "      <td>$3.02</td>\n",
       "      <td>$1,967.64</td>\n",
       "      <td>$4.07</td>\n",
       "    </tr>\n",
       "    <tr>\n",
       "      <th>Other / Non-Disclosed</th>\n",
       "      <td>15</td>\n",
       "      <td>$3.35</td>\n",
       "      <td>$50.19</td>\n",
       "      <td>$4.56</td>\n",
       "    </tr>\n",
       "  </tbody>\n",
       "</table>\n",
       "</div>"
      ],
      "text/plain": [
       "                       Purchase Count Average Purchase Price  \\\n",
       "Gender                                                         \n",
       "Female                            113                  $3.20   \n",
       "Male                              652                  $3.02   \n",
       "Other / Non-Disclosed              15                  $3.35   \n",
       "\n",
       "                      Total Purchase Value Avg Total Purchase per Person  \n",
       "Gender                                                                    \n",
       "Female                             $361.94                         $4.47  \n",
       "Male                             $1,967.64                         $4.07  \n",
       "Other / Non-Disclosed               $50.19                         $4.56  "
      ]
     },
     "execution_count": 493,
     "metadata": {},
     "output_type": "execute_result"
    }
   ],
   "source": [
    "# Run basic calculations to obtain purchase count, avg. purchase price, avg. purchase total per person etc. by gender\n",
    "male_purchases_df = purchase_data_df.loc[~((purchase_data_df['Gender'] == 'Female') | (purchase_data_df['Gender'] == 'Other / Non-Disclosed'))]\n",
    "male_purchase_count = male_purchases_df[\"Gender\"].count()\n",
    "male_average_price = male_purchases_df[\"Price\"].sum() / male_purchase_count\n",
    "male_total_value = male_purchases_df[\"Price\"].sum()\n",
    "male_total_per_person = male_purchases_df[\"Price\"].sum() / males\n",
    "\n",
    "female_purchases_df = purchase_data_df.loc[~((purchase_data_df['Gender'] == 'Male') | (purchase_data_df['Gender'] == 'Other / Non-Disclosed'))]\n",
    "female_purchase_count = female_purchases_df[\"Gender\"].count()\n",
    "female_average_price = female_purchases_df[\"Price\"].sum() / female_purchase_count\n",
    "female_total_value = female_purchases_df[\"Price\"].sum()\n",
    "female_total_per_person = female_purchases_df[\"Price\"].sum() / females\n",
    "\n",
    "other_purchases_df = purchase_data_df.loc[~((purchase_data_df['Gender'] == 'Female') | (purchase_data_df['Gender'] == 'Male'))]\n",
    "other_purchase_count = other_purchases_df[\"Gender\"].count()\n",
    "other_average_price = other_purchases_df[\"Price\"].sum() / other_purchase_count\n",
    "other_total_value = other_purchases_df[\"Price\"].sum()\n",
    "other_total_per_person = other_purchases_df[\"Price\"].sum() / other\n",
    "\n",
    "# Create a summary data frame to hold the results\n",
    "purchasing_demographics = [(female_purchase_count, formatted_female_average_price, formatted_female_total_value, formatted_female_total_per_person),\n",
    "                           (male_purchase_count, formatted_male_average_price, formatted_male_total_value, formatted_male_total_per_person),\n",
    "                           (other_purchase_count, formatted_other_average_price, formatted_other_total_value, formatted_other_total_per_person)]\n",
    "gender_purchasing_df = pd.DataFrame(purchasing_demographics, \n",
    "                         columns = ['Purchase Count' , 'Average Purchase Price', 'Total Purchase Value', 'Avg Total Purchase per Person'], \n",
    "                         index=['Female', 'Male', 'Other / Non-Disclosed'])\n",
    "gender_purchasing_df.index.name = 'Gender'\n",
    "\n",
    "# Optional: give the displayed data cleaner formatting\n",
    "formatted_male_average_price = \"${:,.2f}\".format(male_average_price)\n",
    "formatted_male_total_value = \"${:,.2f}\".format(male_total_value)\n",
    "formatted_male_total_per_person = \"${:,.2f}\".format(male_total_per_person)\n",
    "\n",
    "formatted_female_average_price = \"${:,.2f}\".format(female_average_price)\n",
    "formatted_female_total_value = \"${:,.2f}\".format(female_total_value)\n",
    "formatted_female_total_per_person = \"${:,.2f}\".format(female_total_per_person)\n",
    "\n",
    "formatted_other_average_price = \"${:,.2f}\".format(other_average_price)\n",
    "formatted_other_total_value = \"${:,.2f}\".format(other_total_value)\n",
    "formatted_other_total_per_person = \"${:,.2f}\".format(other_total_per_person)\n",
    "\n",
    "\n",
    "# Display the summary data frame\n",
    "gender_purchasing_df"
   ]
  },
  {
   "cell_type": "markdown",
   "metadata": {},
   "source": [
    "## Age Demographics"
   ]
  },
  {
   "cell_type": "markdown",
   "metadata": {},
   "source": [
    "* Establish bins for ages\n",
    "\n",
    "\n",
    "* Categorize the existing players using the age bins. Hint: use pd.cut()\n",
    "\n",
    "\n",
    "* Calculate the numbers and percentages by age group\n",
    "\n",
    "\n",
    "* Create a summary data frame to hold the results\n",
    "\n",
    "\n",
    "* Optional: round the percentage column to two decimal points\n",
    "\n",
    "\n",
    "* Display Age Demographics Table\n"
   ]
  },
  {
   "cell_type": "code",
   "execution_count": 494,
   "metadata": {},
   "outputs": [
    {
     "data": {
      "text/html": [
       "<div>\n",
       "<style scoped>\n",
       "    .dataframe tbody tr th:only-of-type {\n",
       "        vertical-align: middle;\n",
       "    }\n",
       "\n",
       "    .dataframe tbody tr th {\n",
       "        vertical-align: top;\n",
       "    }\n",
       "\n",
       "    .dataframe thead th {\n",
       "        text-align: right;\n",
       "    }\n",
       "</style>\n",
       "<table border=\"1\" class=\"dataframe\">\n",
       "  <thead>\n",
       "    <tr style=\"text-align: right;\">\n",
       "      <th></th>\n",
       "      <th>Total Count</th>\n",
       "      <th>Percentage of Players</th>\n",
       "    </tr>\n",
       "  </thead>\n",
       "  <tbody>\n",
       "    <tr>\n",
       "      <th>&lt;10</th>\n",
       "      <td>17</td>\n",
       "      <td>2.95%</td>\n",
       "    </tr>\n",
       "    <tr>\n",
       "      <th>10-14</th>\n",
       "      <td>22</td>\n",
       "      <td>3.82%</td>\n",
       "    </tr>\n",
       "    <tr>\n",
       "      <th>15-19</th>\n",
       "      <td>107</td>\n",
       "      <td>18.58%</td>\n",
       "    </tr>\n",
       "    <tr>\n",
       "      <th>20-24</th>\n",
       "      <td>258</td>\n",
       "      <td>44.79%</td>\n",
       "    </tr>\n",
       "    <tr>\n",
       "      <th>25-29</th>\n",
       "      <td>77</td>\n",
       "      <td>13.37%</td>\n",
       "    </tr>\n",
       "    <tr>\n",
       "      <th>30-34</th>\n",
       "      <td>52</td>\n",
       "      <td>9.03%</td>\n",
       "    </tr>\n",
       "    <tr>\n",
       "      <th>35-39</th>\n",
       "      <td>31</td>\n",
       "      <td>5.38%</td>\n",
       "    </tr>\n",
       "    <tr>\n",
       "      <th>40+</th>\n",
       "      <td>12</td>\n",
       "      <td>2.08%</td>\n",
       "    </tr>\n",
       "  </tbody>\n",
       "</table>\n",
       "</div>"
      ],
      "text/plain": [
       "       Total Count Percentage of Players\n",
       "<10             17                 2.95%\n",
       "10-14           22                 3.82%\n",
       "15-19          107                18.58%\n",
       "20-24          258                44.79%\n",
       "25-29           77                13.37%\n",
       "30-34           52                 9.03%\n",
       "35-39           31                 5.38%\n",
       "40+             12                 2.08%"
      ]
     },
     "execution_count": 494,
     "metadata": {},
     "output_type": "execute_result"
    }
   ],
   "source": [
    "# Establish bins for ages\n",
    "bins = [0, 9, 14, 19, 24, 29, 34, 39, (ages_df[\"Age\"].max())]\n",
    "labels = ['<10', '10-14', '15-19', '20-24', '25-29', '30-34', '35-39', '40+']\n",
    "\n",
    "# Categorize the existing players using the age bins\n",
    "pd.cut(purchase_data_df[\"Age\"], bins, labels).head()\n",
    "purchase_data_df[\"AgeGroup\"] = pd.cut(purchase_data_df[\"Age\"], bins, labels=labels)\n",
    "ages_df = purchase_data_df.drop_duplicates(subset=['SN'], keep='first')\n",
    "\n",
    "# Calculate the numbers and percentages by age group\n",
    "countone = (ages_df.AgeGroup == '<10').sum()\n",
    "countonepercent = countone / len(ages_df)\n",
    "counttwo = (ages_df.AgeGroup == '10-14').sum()\n",
    "counttwopercent = counttwo / len(ages_df)\n",
    "countthree = (ages_df.AgeGroup == '15-19').sum()\n",
    "countthreepercent = countthree / len(ages_df)\n",
    "countfour = (ages_df.AgeGroup == '20-24').sum()\n",
    "countfourpercent = countfour / len(ages_df)\n",
    "countfive = (ages_df.AgeGroup == '25-29').sum()\n",
    "countfivepercent = countfive / len(ages_df)\n",
    "countsix = (ages_df.AgeGroup == '30-34').sum()\n",
    "countsixpercent = countsix / len(ages_df)\n",
    "countseven = (ages_df.AgeGroup == '35-39').sum()\n",
    "countsevenpercent = countseven / len(ages_df)\n",
    "counteight = (ages_df.AgeGroup == '40+').sum()\n",
    "counteightpercent = counteight / len(ages_df)\n",
    "\n",
    "# Optional: round the percentage column to two decimal points\n",
    "formattedcountonepercent = '{:.2%}'.format(countonepercent)\n",
    "formattedcounttwopercent = '{:.2%}'.format(counttwopercent)\n",
    "formattedcountthreepercent = '{:.2%}'.format(countthreepercent)\n",
    "formattedcountfourpercent = '{:.2%}'.format(countfourpercent)\n",
    "formattedcountfivepercent = '{:.2%}'.format(countfivepercent)\n",
    "formattedcountsixpercent = '{:.2%}'.format(countsixpercent)\n",
    "formattedcountsevenpercent = '{:.2%}'.format(countsevenpercent)\n",
    "formattedcounteightpercent = '{:.2%}'.format(counteightpercent)\n",
    "\n",
    "# Create a summary data frame to hold the results\n",
    "age_demographics = [(countone, formattedcountonepercent),\n",
    "                    (counttwo, formattedcounttwopercent),\n",
    "                    (countthree, formattedcountthreepercent),\n",
    "                    (countfour, formattedcountfourpercent),\n",
    "                    (countfive, formattedcountfivepercent),\n",
    "                    (countsix, formattedcountsixpercent),\n",
    "                    (countseven, formattedcountsevenpercent),\n",
    "                    (counteight, formattedcounteightpercent)]\n",
    "age_demographics_df = pd.DataFrame(age_demographics, \n",
    "                         columns = ['Total Count', 'Percentage of Players'], \n",
    "                         index=['<10', '10-14', '15-19', '20-24', '25-29', '30-34', '35-39', '40+'])\n",
    "\n",
    "# Display Age Demographics Table\n",
    "age_demographics_df"
   ]
  },
  {
   "cell_type": "markdown",
   "metadata": {},
   "source": [
    "Purchasing Analysis (Age)¶"
   ]
  },
  {
   "cell_type": "markdown",
   "metadata": {},
   "source": [
    "* Bin the purchase_data data frame by age\n",
    "\n",
    "\n",
    "* Run basic calculations to obtain purchase count, avg. purchase price, avg. purchase total per person etc. in the table below\n",
    "\n",
    "\n",
    "* Create a summary data frame to hold the results\n",
    "\n",
    "\n",
    "* Optional: give the displayed data cleaner formatting\n",
    "\n",
    "\n",
    "* Display the summary data frame"
   ]
  },
  {
   "cell_type": "code",
   "execution_count": 495,
   "metadata": {},
   "outputs": [
    {
     "data": {
      "text/html": [
       "<div>\n",
       "<style scoped>\n",
       "    .dataframe tbody tr th:only-of-type {\n",
       "        vertical-align: middle;\n",
       "    }\n",
       "\n",
       "    .dataframe tbody tr th {\n",
       "        vertical-align: top;\n",
       "    }\n",
       "\n",
       "    .dataframe thead th {\n",
       "        text-align: right;\n",
       "    }\n",
       "</style>\n",
       "<table border=\"1\" class=\"dataframe\">\n",
       "  <thead>\n",
       "    <tr style=\"text-align: right;\">\n",
       "      <th></th>\n",
       "      <th>Purchase ID</th>\n",
       "    </tr>\n",
       "    <tr>\n",
       "      <th>AgeGroup</th>\n",
       "      <th></th>\n",
       "    </tr>\n",
       "  </thead>\n",
       "  <tbody>\n",
       "    <tr>\n",
       "      <th>&lt;10</th>\n",
       "      <td>23</td>\n",
       "    </tr>\n",
       "    <tr>\n",
       "      <th>10-14</th>\n",
       "      <td>28</td>\n",
       "    </tr>\n",
       "    <tr>\n",
       "      <th>15-19</th>\n",
       "      <td>136</td>\n",
       "    </tr>\n",
       "    <tr>\n",
       "      <th>20-24</th>\n",
       "      <td>365</td>\n",
       "    </tr>\n",
       "    <tr>\n",
       "      <th>25-29</th>\n",
       "      <td>101</td>\n",
       "    </tr>\n",
       "    <tr>\n",
       "      <th>30-34</th>\n",
       "      <td>73</td>\n",
       "    </tr>\n",
       "    <tr>\n",
       "      <th>35-39</th>\n",
       "      <td>41</td>\n",
       "    </tr>\n",
       "    <tr>\n",
       "      <th>40+</th>\n",
       "      <td>13</td>\n",
       "    </tr>\n",
       "  </tbody>\n",
       "</table>\n",
       "</div>"
      ],
      "text/plain": [
       "          Purchase ID\n",
       "AgeGroup             \n",
       "<10                23\n",
       "10-14              28\n",
       "15-19             136\n",
       "20-24             365\n",
       "25-29             101\n",
       "30-34              73\n",
       "35-39              41\n",
       "40+                13"
      ]
     },
     "execution_count": 495,
     "metadata": {},
     "output_type": "execute_result"
    }
   ],
   "source": [
    "# Bin the purchase_data data frame by age\n",
    "bins = [0, 9, 14, 19, 24, 29, 34, 39, (ages_df[\"Age\"].max())]\n",
    "labels = ['<10', '10-14', '15-19', '20-24', '25-29', '30-34', '35-39', '40+']\n",
    "pd.cut(purchase_data_df[\"Age\"], bins, labels).head()\n",
    "purchase_data_df[\"AgeGroup\"] = pd.cut(purchase_data_df[\"Age\"], bins, labels=labels)\n",
    "purchase_group = purchase_data_df.groupby(\"AgeGroup\")\n",
    "purchase_group[[\"Purchase ID\"]].count()"
   ]
  },
  {
   "cell_type": "markdown",
   "metadata": {},
   "source": [
    "## Top Spenders"
   ]
  },
  {
   "cell_type": "markdown",
   "metadata": {},
   "source": [
    "* Run basic calculations to obtain the results in the table below\n",
    "\n",
    "\n",
    "* Create a summary data frame to hold the results\n",
    "\n",
    "\n",
    "* Sort the total purchase value column in descending order\n",
    "\n",
    "\n",
    "* Optional: give the displayed data cleaner formatting\n",
    "\n",
    "\n",
    "* Display a preview of the summary data frame\n",
    "\n"
   ]
  },
  {
   "cell_type": "code",
   "execution_count": 496,
   "metadata": {},
   "outputs": [
    {
     "data": {
      "text/html": [
       "<style  type=\"text/css\" >\n",
       "</style><table id=\"T_4ad580f0_01f7_11eb_8bc8_982cbcc1271b\" ><thead>    <tr>        <th class=\"blank level0\" ></th>        <th class=\"col_heading level0 col0\" >Purchase Count</th>        <th class=\"col_heading level0 col1\" >Average Purchase Price</th>        <th class=\"col_heading level0 col2\" >Total Purchase Value</th>    </tr>    <tr>        <th class=\"index_name level0\" >SN</th>        <th class=\"blank\" ></th>        <th class=\"blank\" ></th>        <th class=\"blank\" ></th>    </tr></thead><tbody>\n",
       "                <tr>\n",
       "                        <th id=\"T_4ad580f0_01f7_11eb_8bc8_982cbcc1271blevel0_row0\" class=\"row_heading level0 row0\" >Lisosia93</th>\n",
       "                        <td id=\"T_4ad580f0_01f7_11eb_8bc8_982cbcc1271brow0_col0\" class=\"data row0 col0\" >5</td>\n",
       "                        <td id=\"T_4ad580f0_01f7_11eb_8bc8_982cbcc1271brow0_col1\" class=\"data row0 col1\" >$3.79</td>\n",
       "                        <td id=\"T_4ad580f0_01f7_11eb_8bc8_982cbcc1271brow0_col2\" class=\"data row0 col2\" >$18.96</td>\n",
       "            </tr>\n",
       "            <tr>\n",
       "                        <th id=\"T_4ad580f0_01f7_11eb_8bc8_982cbcc1271blevel0_row1\" class=\"row_heading level0 row1\" >Idastidru52</th>\n",
       "                        <td id=\"T_4ad580f0_01f7_11eb_8bc8_982cbcc1271brow1_col0\" class=\"data row1 col0\" >4</td>\n",
       "                        <td id=\"T_4ad580f0_01f7_11eb_8bc8_982cbcc1271brow1_col1\" class=\"data row1 col1\" >$3.86</td>\n",
       "                        <td id=\"T_4ad580f0_01f7_11eb_8bc8_982cbcc1271brow1_col2\" class=\"data row1 col2\" >$15.45</td>\n",
       "            </tr>\n",
       "            <tr>\n",
       "                        <th id=\"T_4ad580f0_01f7_11eb_8bc8_982cbcc1271blevel0_row2\" class=\"row_heading level0 row2\" >Chamjask73</th>\n",
       "                        <td id=\"T_4ad580f0_01f7_11eb_8bc8_982cbcc1271brow2_col0\" class=\"data row2 col0\" >3</td>\n",
       "                        <td id=\"T_4ad580f0_01f7_11eb_8bc8_982cbcc1271brow2_col1\" class=\"data row2 col1\" >$4.61</td>\n",
       "                        <td id=\"T_4ad580f0_01f7_11eb_8bc8_982cbcc1271brow2_col2\" class=\"data row2 col2\" >$13.83</td>\n",
       "            </tr>\n",
       "            <tr>\n",
       "                        <th id=\"T_4ad580f0_01f7_11eb_8bc8_982cbcc1271blevel0_row3\" class=\"row_heading level0 row3\" >Iral74</th>\n",
       "                        <td id=\"T_4ad580f0_01f7_11eb_8bc8_982cbcc1271brow3_col0\" class=\"data row3 col0\" >4</td>\n",
       "                        <td id=\"T_4ad580f0_01f7_11eb_8bc8_982cbcc1271brow3_col1\" class=\"data row3 col1\" >$3.40</td>\n",
       "                        <td id=\"T_4ad580f0_01f7_11eb_8bc8_982cbcc1271brow3_col2\" class=\"data row3 col2\" >$13.62</td>\n",
       "            </tr>\n",
       "            <tr>\n",
       "                        <th id=\"T_4ad580f0_01f7_11eb_8bc8_982cbcc1271blevel0_row4\" class=\"row_heading level0 row4\" >Iskadarya95</th>\n",
       "                        <td id=\"T_4ad580f0_01f7_11eb_8bc8_982cbcc1271brow4_col0\" class=\"data row4 col0\" >3</td>\n",
       "                        <td id=\"T_4ad580f0_01f7_11eb_8bc8_982cbcc1271brow4_col1\" class=\"data row4 col1\" >$4.37</td>\n",
       "                        <td id=\"T_4ad580f0_01f7_11eb_8bc8_982cbcc1271brow4_col2\" class=\"data row4 col2\" >$13.10</td>\n",
       "            </tr>\n",
       "    </tbody></table>"
      ],
      "text/plain": [
       "<pandas.io.formats.style.Styler at 0x20e301f44e0>"
      ]
     },
     "execution_count": 496,
     "metadata": {},
     "output_type": "execute_result"
    }
   ],
   "source": [
    "# Run basic calculations to obtain the results in the table below\n",
    "purchasecount = purchase_data_df.groupby(\"SN\").count()[\"Price\"]\n",
    "avgprice = purchase_data_df.groupby(\"SN\").mean()[\"Price\"]\n",
    "totalvalue = purchase_data_df.groupby(\"SN\").sum()[\"Price\"]\n",
    "\n",
    "# Create a summary data frame to hold the results\n",
    "analysis_df = pd.DataFrame({\"Purchase Count\": purchasecount,\n",
    "                            \"Average Purchase Price\": avgcount,\n",
    "                            \"Total Purchase Value\": totalvalue})\n",
    "\n",
    "# Sort the total purchase value column in descending order\n",
    "analysis_df.sort_values(by=['Total Purchase Value'], inplace=True, ascending= False)\n",
    "\n",
    "\n",
    "# Display a preview of the summary data frame\n",
    "(analysis_df\n",
    "    .head()\n",
    "    .style.format({\"Average Purchase Price\": \"${:.2f}\", \"Total Purchase Value\": \"${:.2f}\"}))"
   ]
  },
  {
   "cell_type": "markdown",
   "metadata": {},
   "source": [
    "## Most Popular Items"
   ]
  },
  {
   "cell_type": "markdown",
   "metadata": {},
   "source": [
    "* Retrieve the Item ID, Item Name, and Item Price columns\n",
    "\n",
    "\n",
    "* Group by Item ID and Item Name. Perform calculations to obtain purchase count, average item price, and total purchase value\n",
    "\n",
    "\n",
    "* Create a summary data frame to hold the results\n",
    "\n",
    "\n",
    "* Sort the purchase count column in descending order\n",
    "\n",
    "\n",
    "* Optional: give the displayed data cleaner formatting\n",
    "\n",
    "\n",
    "* Display a preview of the summary data frame\n",
    "\n"
   ]
  },
  {
   "cell_type": "code",
   "execution_count": 497,
   "metadata": {},
   "outputs": [
    {
     "data": {
      "text/html": [
       "<style  type=\"text/css\" >\n",
       "</style><table id=\"T_5248ebe2_01f7_11eb_814c_982cbcc1271b\" ><thead>    <tr>        <th class=\"blank\" ></th>        <th class=\"blank level0\" ></th>        <th class=\"col_heading level0 col0\" >Purchase Count</th>        <th class=\"col_heading level0 col1\" >Item Price</th>        <th class=\"col_heading level0 col2\" >Total Purchase Value</th>    </tr>    <tr>        <th class=\"index_name level0\" >Item ID</th>        <th class=\"index_name level1\" >Item Name</th>        <th class=\"blank\" ></th>        <th class=\"blank\" ></th>        <th class=\"blank\" ></th>    </tr></thead><tbody>\n",
       "                <tr>\n",
       "                        <th id=\"T_5248ebe2_01f7_11eb_814c_982cbcc1271blevel0_row0\" class=\"row_heading level0 row0\" >92</th>\n",
       "                        <th id=\"T_5248ebe2_01f7_11eb_814c_982cbcc1271blevel1_row0\" class=\"row_heading level1 row0\" >Final Critic</th>\n",
       "                        <td id=\"T_5248ebe2_01f7_11eb_814c_982cbcc1271brow0_col0\" class=\"data row0 col0\" >13</td>\n",
       "                        <td id=\"T_5248ebe2_01f7_11eb_814c_982cbcc1271brow0_col1\" class=\"data row0 col1\" >$4.61</td>\n",
       "                        <td id=\"T_5248ebe2_01f7_11eb_814c_982cbcc1271brow0_col2\" class=\"data row0 col2\" >$59.99</td>\n",
       "            </tr>\n",
       "            <tr>\n",
       "                        <th id=\"T_5248ebe2_01f7_11eb_814c_982cbcc1271blevel0_row1\" class=\"row_heading level0 row1\" >178</th>\n",
       "                        <th id=\"T_5248ebe2_01f7_11eb_814c_982cbcc1271blevel1_row1\" class=\"row_heading level1 row1\" >Oathbreaker, Last Hope of the Breaking Storm</th>\n",
       "                        <td id=\"T_5248ebe2_01f7_11eb_814c_982cbcc1271brow1_col0\" class=\"data row1 col0\" >12</td>\n",
       "                        <td id=\"T_5248ebe2_01f7_11eb_814c_982cbcc1271brow1_col1\" class=\"data row1 col1\" >$4.23</td>\n",
       "                        <td id=\"T_5248ebe2_01f7_11eb_814c_982cbcc1271brow1_col2\" class=\"data row1 col2\" >$50.76</td>\n",
       "            </tr>\n",
       "            <tr>\n",
       "                        <th id=\"T_5248ebe2_01f7_11eb_814c_982cbcc1271blevel0_row2\" class=\"row_heading level0 row2\" >145</th>\n",
       "                        <th id=\"T_5248ebe2_01f7_11eb_814c_982cbcc1271blevel1_row2\" class=\"row_heading level1 row2\" >Fiery Glass Crusader</th>\n",
       "                        <td id=\"T_5248ebe2_01f7_11eb_814c_982cbcc1271brow2_col0\" class=\"data row2 col0\" >9</td>\n",
       "                        <td id=\"T_5248ebe2_01f7_11eb_814c_982cbcc1271brow2_col1\" class=\"data row2 col1\" >$4.58</td>\n",
       "                        <td id=\"T_5248ebe2_01f7_11eb_814c_982cbcc1271brow2_col2\" class=\"data row2 col2\" >$41.22</td>\n",
       "            </tr>\n",
       "            <tr>\n",
       "                        <th id=\"T_5248ebe2_01f7_11eb_814c_982cbcc1271blevel0_row3\" class=\"row_heading level0 row3\" >132</th>\n",
       "                        <th id=\"T_5248ebe2_01f7_11eb_814c_982cbcc1271blevel1_row3\" class=\"row_heading level1 row3\" >Persuasion</th>\n",
       "                        <td id=\"T_5248ebe2_01f7_11eb_814c_982cbcc1271brow3_col0\" class=\"data row3 col0\" >9</td>\n",
       "                        <td id=\"T_5248ebe2_01f7_11eb_814c_982cbcc1271brow3_col1\" class=\"data row3 col1\" >$3.22</td>\n",
       "                        <td id=\"T_5248ebe2_01f7_11eb_814c_982cbcc1271brow3_col2\" class=\"data row3 col2\" >$28.99</td>\n",
       "            </tr>\n",
       "            <tr>\n",
       "                        <th id=\"T_5248ebe2_01f7_11eb_814c_982cbcc1271blevel0_row4\" class=\"row_heading level0 row4\" >108</th>\n",
       "                        <th id=\"T_5248ebe2_01f7_11eb_814c_982cbcc1271blevel1_row4\" class=\"row_heading level1 row4\" >Extraction, Quickblade Of Trembling Hands</th>\n",
       "                        <td id=\"T_5248ebe2_01f7_11eb_814c_982cbcc1271brow4_col0\" class=\"data row4 col0\" >9</td>\n",
       "                        <td id=\"T_5248ebe2_01f7_11eb_814c_982cbcc1271brow4_col1\" class=\"data row4 col1\" >$3.53</td>\n",
       "                        <td id=\"T_5248ebe2_01f7_11eb_814c_982cbcc1271brow4_col2\" class=\"data row4 col2\" >$31.77</td>\n",
       "            </tr>\n",
       "    </tbody></table>"
      ],
      "text/plain": [
       "<pandas.io.formats.style.Styler at 0x20e301b3320>"
      ]
     },
     "execution_count": 497,
     "metadata": {},
     "output_type": "execute_result"
    }
   ],
   "source": [
    "# Retrieve the Item ID, Item Name, and Item Price columns\n",
    "most_popular_df = purchase_data_df[[\"Item ID\", \"Item Name\", \"Price\"]]\n",
    "most_popular_df.head()\n",
    "\n",
    "# Group by Item ID and Item Name. Perform calculations to obtain purchase count, average item price, and total purchase value\n",
    "mppurchasecount = purchase_data_df.groupby([\"Item ID\", \"Item Name\"]).count()[\"Price\"]\n",
    "mptotalvalue = purchase_data_df.groupby([\"Item ID\", \"Item Name\"]).sum()[\"Price\"]\n",
    "\n",
    "# Create a summary data frame to hold the results\n",
    "mpanalysis_df = pd.DataFrame({\"Purchase Count\": mppurchasecount,\n",
    "                            \"Item Price\": mptotalvalue / mppurchasecount,\n",
    "                             \"Total Purchase Value\": mptotalvalue})\n",
    "\n",
    "# Sort the total purchase value column in descending order\n",
    "mpanalysis_df.sort_values(by=['Purchase Count'], inplace=True, ascending= False)\n",
    "\n",
    "# Display a preview of the summary data frame\n",
    "# Optional: give the displayed data cleaner formatting\n",
    "(mpanalysis_df\n",
    "    .head()\n",
    "    .style.format({\"Item Price\": \"${:.2f}\", \"Total Purchase Value\": \"${:.2f}\"}))"
   ]
  },
  {
   "cell_type": "markdown",
   "metadata": {},
   "source": [
    "## Most Profitable Items"
   ]
  },
  {
   "cell_type": "markdown",
   "metadata": {},
   "source": [
    "* Sort the above table by total purchase value in descending order\n",
    "\n",
    "\n",
    "* Optional: give the displayed data cleaner formatting\n",
    "\n",
    "\n",
    "* Display a preview of the data frame\n",
    "\n"
   ]
  },
  {
   "cell_type": "code",
   "execution_count": 486,
   "metadata": {
    "scrolled": true
   },
   "outputs": [
    {
     "data": {
      "text/html": [
       "<style  type=\"text/css\" >\n",
       "</style><table id=\"T_cb4c3236_01f6_11eb_814a_982cbcc1271b\" ><thead>    <tr>        <th class=\"blank\" ></th>        <th class=\"blank level0\" ></th>        <th class=\"col_heading level0 col0\" >Purchase Count</th>        <th class=\"col_heading level0 col1\" >Item Price</th>        <th class=\"col_heading level0 col2\" >Total Purchase Value</th>    </tr>    <tr>        <th class=\"index_name level0\" >Item ID</th>        <th class=\"index_name level1\" >Item Name</th>        <th class=\"blank\" ></th>        <th class=\"blank\" ></th>        <th class=\"blank\" ></th>    </tr></thead><tbody>\n",
       "                <tr>\n",
       "                        <th id=\"T_cb4c3236_01f6_11eb_814a_982cbcc1271blevel0_row0\" class=\"row_heading level0 row0\" >92</th>\n",
       "                        <th id=\"T_cb4c3236_01f6_11eb_814a_982cbcc1271blevel1_row0\" class=\"row_heading level1 row0\" >Final Critic</th>\n",
       "                        <td id=\"T_cb4c3236_01f6_11eb_814a_982cbcc1271brow0_col0\" class=\"data row0 col0\" >13</td>\n",
       "                        <td id=\"T_cb4c3236_01f6_11eb_814a_982cbcc1271brow0_col1\" class=\"data row0 col1\" >$4.61</td>\n",
       "                        <td id=\"T_cb4c3236_01f6_11eb_814a_982cbcc1271brow0_col2\" class=\"data row0 col2\" >$59.99</td>\n",
       "            </tr>\n",
       "            <tr>\n",
       "                        <th id=\"T_cb4c3236_01f6_11eb_814a_982cbcc1271blevel0_row1\" class=\"row_heading level0 row1\" >178</th>\n",
       "                        <th id=\"T_cb4c3236_01f6_11eb_814a_982cbcc1271blevel1_row1\" class=\"row_heading level1 row1\" >Oathbreaker, Last Hope of the Breaking Storm</th>\n",
       "                        <td id=\"T_cb4c3236_01f6_11eb_814a_982cbcc1271brow1_col0\" class=\"data row1 col0\" >12</td>\n",
       "                        <td id=\"T_cb4c3236_01f6_11eb_814a_982cbcc1271brow1_col1\" class=\"data row1 col1\" >$4.23</td>\n",
       "                        <td id=\"T_cb4c3236_01f6_11eb_814a_982cbcc1271brow1_col2\" class=\"data row1 col2\" >$50.76</td>\n",
       "            </tr>\n",
       "            <tr>\n",
       "                        <th id=\"T_cb4c3236_01f6_11eb_814a_982cbcc1271blevel0_row2\" class=\"row_heading level0 row2\" >82</th>\n",
       "                        <th id=\"T_cb4c3236_01f6_11eb_814a_982cbcc1271blevel1_row2\" class=\"row_heading level1 row2\" >Nirvana</th>\n",
       "                        <td id=\"T_cb4c3236_01f6_11eb_814a_982cbcc1271brow2_col0\" class=\"data row2 col0\" >9</td>\n",
       "                        <td id=\"T_cb4c3236_01f6_11eb_814a_982cbcc1271brow2_col1\" class=\"data row2 col1\" >$4.90</td>\n",
       "                        <td id=\"T_cb4c3236_01f6_11eb_814a_982cbcc1271brow2_col2\" class=\"data row2 col2\" >$44.10</td>\n",
       "            </tr>\n",
       "            <tr>\n",
       "                        <th id=\"T_cb4c3236_01f6_11eb_814a_982cbcc1271blevel0_row3\" class=\"row_heading level0 row3\" >145</th>\n",
       "                        <th id=\"T_cb4c3236_01f6_11eb_814a_982cbcc1271blevel1_row3\" class=\"row_heading level1 row3\" >Fiery Glass Crusader</th>\n",
       "                        <td id=\"T_cb4c3236_01f6_11eb_814a_982cbcc1271brow3_col0\" class=\"data row3 col0\" >9</td>\n",
       "                        <td id=\"T_cb4c3236_01f6_11eb_814a_982cbcc1271brow3_col1\" class=\"data row3 col1\" >$4.58</td>\n",
       "                        <td id=\"T_cb4c3236_01f6_11eb_814a_982cbcc1271brow3_col2\" class=\"data row3 col2\" >$41.22</td>\n",
       "            </tr>\n",
       "            <tr>\n",
       "                        <th id=\"T_cb4c3236_01f6_11eb_814a_982cbcc1271blevel0_row4\" class=\"row_heading level0 row4\" >103</th>\n",
       "                        <th id=\"T_cb4c3236_01f6_11eb_814a_982cbcc1271blevel1_row4\" class=\"row_heading level1 row4\" >Singed Scalpel</th>\n",
       "                        <td id=\"T_cb4c3236_01f6_11eb_814a_982cbcc1271brow4_col0\" class=\"data row4 col0\" >8</td>\n",
       "                        <td id=\"T_cb4c3236_01f6_11eb_814a_982cbcc1271brow4_col1\" class=\"data row4 col1\" >$4.35</td>\n",
       "                        <td id=\"T_cb4c3236_01f6_11eb_814a_982cbcc1271brow4_col2\" class=\"data row4 col2\" >$34.80</td>\n",
       "            </tr>\n",
       "    </tbody></table>"
      ],
      "text/plain": [
       "<pandas.io.formats.style.Styler at 0x20e30205ba8>"
      ]
     },
     "execution_count": 486,
     "metadata": {},
     "output_type": "execute_result"
    }
   ],
   "source": [
    "# Sort the above table by total purchase value in descending order\n",
    "mpanalysis_df.sort_values(by=['Total Purchase Value'], inplace=True, ascending= False)\n",
    "\n",
    "# Display a preview of the data frame\n",
    "# Optional: give the displayed data cleaner formatting\n",
    "(mpanalysis_df\n",
    "    .head()\n",
    "    .style.format({\"Item Price\": \"${:.2f}\", \"Total Purchase Value\": \"${:.2f}\"}))"
   ]
  },
  {
   "cell_type": "code",
   "execution_count": null,
   "metadata": {},
   "outputs": [],
   "source": []
  }
 ],
 "metadata": {
  "anaconda-cloud": {},
  "kernel_info": {
   "name": "python3"
  },
  "kernelspec": {
   "display_name": "Python 3",
   "language": "python",
   "name": "python3"
  },
  "language_info": {
   "codemirror_mode": {
    "name": "ipython",
    "version": 3
   },
   "file_extension": ".py",
   "mimetype": "text/x-python",
   "name": "python",
   "nbconvert_exporter": "python",
   "pygments_lexer": "ipython3",
   "version": "3.6.10"
  },
  "latex_envs": {
   "LaTeX_envs_menu_present": true,
   "autoclose": false,
   "autocomplete": true,
   "bibliofile": "biblio.bib",
   "cite_by": "apalike",
   "current_citInitial": 1,
   "eqLabelWithNumbers": true,
   "eqNumInitial": 1,
   "hotkeys": {
    "equation": "Ctrl-E",
    "itemize": "Ctrl-I"
   },
   "labels_anchors": false,
   "latex_user_defs": false,
   "report_style_numbering": false,
   "user_envs_cfg": false
  },
  "nteract": {
   "version": "0.2.0"
  }
 },
 "nbformat": 4,
 "nbformat_minor": 2
}
